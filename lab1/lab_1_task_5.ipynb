{
 "cells": [
  {
   "cell_type": "code",
   "execution_count": 1,
   "metadata": {},
   "outputs": [],
   "source": [
    "def isprime(n):\n",
    "    divisors = [ d for d in range(2,n//2+1) if n % d == 0 ]\n",
    "    return 1 if not divisors else 0\n",
    "\n",
    "def goldbach(n):\n",
    "    for i in range(2,n//2+1):\n",
    "        if isprime(i) and isprime(n-i):\n",
    "            return i, n-i\n",
    "\n",
    "def test_task_1():\n",
    "    task_1(28)\n",
    "    task_1(32)\n",
    "    task_1(2)\n",
    "    task_1(91)\n",
    "    task_1('ewq')\n",
    "\n",
    "\n",
    "def task_1(n=None):\n",
    "    try:\n",
    "        if n is None:\n",
    "            n = int(input('Enter even integer greater than 2: '))\n",
    "        if n <= 2 or n%2 != 0:\n",
    "            raise ValueError\n",
    "    except (TypeError, ValueError):\n",
    "        print('This is incorrect number!')\n",
    "    else:\n",
    "        x, y = goldbach(n)\n",
    "        print('Number {n} can be expresses as {x}+{y}'.format(n=n, x=x, y=y))\n",
    "\n",
    "\n",
    "test_task_1()"
   ]
  },
  {
   "cell_type": "code",
   "execution_count": 2,
   "metadata": {},
   "outputs": [
    {
     "name": "stdout",
     "output_type": "stream",
     "text": [
      "Number 28 can be expresses as 5+23\n",
      "Number 32 can be expresses as 3+29\n",
      "This is incorrect number!\n",
      "This is incorrect number!\n",
      "This is incorrect number!\n"
     ]
    }
   ],
   "source": [
    "test_task_1()"
   ]
  },
  {
   "cell_type": "code",
   "execution_count": 5,
   "metadata": {},
   "outputs": [
    {
     "name": "stdout",
     "output_type": "stream",
     "text": [
      "Enter even integer greater than 2: 5\n",
      "This is incorrect number!\n"
     ]
    }
   ],
   "source": [
    "task_1()"
   ]
  },
  {
   "cell_type": "code",
   "execution_count": null,
   "metadata": {},
   "outputs": [],
   "source": []
  }
 ],
 "metadata": {
  "kernelspec": {
   "display_name": "Python 3",
   "language": "python",
   "name": "python3"
  },
  "language_info": {
   "codemirror_mode": {
    "name": "ipython",
    "version": 3
   },
   "file_extension": ".py",
   "mimetype": "text/x-python",
   "name": "python",
   "nbconvert_exporter": "python",
   "pygments_lexer": "ipython3",
   "version": "3.7.3"
  }
 },
 "nbformat": 4,
 "nbformat_minor": 4
}
