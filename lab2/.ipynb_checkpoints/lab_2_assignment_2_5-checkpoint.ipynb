{
 "cells": [
  {
   "cell_type": "markdown",
   "metadata": {},
   "source": [
    "\\begin{align*}\n",
    "  x_{1}+x_{2}+2x_{3}+3x_{4}=1 \\\\ \n",
    "  3x_{1}-x_{2}-x_{3}-2x_{4}=-4 \\\\ \n",
    "  2x_{1}-3x_{2}-x_{3}-x_{4}=-6 \\\\\n",
    "  x_{1}+2x_{2}+3x_{3}-1x_{4}=-4\n",
    "\\end{align*}"
   ]
  },
  {
   "cell_type": "code",
   "execution_count": 1,
   "metadata": {},
   "outputs": [
    {
     "name": "stdout",
     "output_type": "stream",
     "text": [
      "[-0.55555556  1.88888889 -2.          1.22222222]\n",
      "[-0.55555556  1.88888889 -2.          1.22222222]\n",
      "True\n"
     ]
    }
   ],
   "source": [
    "import numpy as np\n",
    "\n",
    "\n",
    "A = np.array([[1, 1, 2, 3],\n",
    "              [3, -1, -1, -2],\n",
    "              [2, -3, -1, -1],\n",
    "              [1, 2, 3, -1]])\n",
    "\n",
    "B = np.array([1, -4, -6, -4])\n",
    "\n",
    "X1 = np.linalg.inv(A).dot(B)\n",
    "X2 = np.linalg.solve(A,B)\n",
    "\n",
    "print(X1)\n",
    "print(X2)\n",
    "print(np.allclose(X1, X2))"
   ]
  },
  {
   "cell_type": "markdown",
   "metadata": {},
   "source": [
    "2(A+B)(2B-A)\n",
    "\n",
    "A\n",
    "$$\\begin{bmatrix} 2 & 3 & -1 \\\\ 4 & 5 & 2 \\\\ -1 & 0 & 7 \\end{bmatrix}$$\n",
    "B\n",
    "$$\\begin{bmatrix} -1 & 0 & 5 \\\\ 0 & 1 & 3 \\\\ 2 & -2 & 4 \\end{bmatrix}$$"
   ]
  },
  {
   "cell_type": "code",
   "execution_count": 2,
   "metadata": {},
   "outputs": [
    {
     "name": "stdout",
     "output_type": "stream",
     "text": [
      "[[   8  -56   54]\n",
      " [ -30 -100  146]\n",
      " [ 118  -82   28]]\n",
      "[[   8  -56   54]\n",
      " [ -30 -100  146]\n",
      " [ 118  -82   28]]\n",
      "True\n"
     ]
    }
   ],
   "source": [
    "A = np.array([[2, 3, -1],\n",
    "              [4, 5, 2],\n",
    "              [-1, 0, 7]])\n",
    "\n",
    "B = np.array([[-1, 0, 5],\n",
    "              [0, 1, 3],\n",
    "              [2, -2, 4]])\n",
    "\n",
    "expression = 2*(A+B).dot(2*B-A)\n",
    "X = expression\n",
    "\n",
    "print(X)\n",
    "print(expression)\n",
    "print(np.allclose(X, expression))"
   ]
  },
  {
   "cell_type": "markdown",
   "metadata": {},
   "source": [
    "\\begin{equation*}\n",
    "  \\begin{pmatrix}\n",
    "    2 & 3 & 1\\\\\n",
    "    2 & 3 & 1\\\\\n",
    "    2 & 3 & 1\n",
    "  \\end{pmatrix}\n",
    "    *X=\n",
    "  \\begin{pmatrix}\n",
    "    2 & 3 & 1\\\\\n",
    "    2 & 3 & 1\\\\\n",
    "    2 & 3 & 1\n",
    "  \\end{pmatrix}\n",
    "\\end{equation*}"
   ]
  },
  {
   "cell_type": "code",
   "execution_count": 3,
   "metadata": {},
   "outputs": [
    {
     "name": "stdout",
     "output_type": "stream",
     "text": [
      "[[ 1.  2.  3.]\n",
      " [ 0.  1.  2.]\n",
      " [-0.  0.  1.]]\n"
     ]
    }
   ],
   "source": [
    "A = np.array([[2, 3, 1],\n",
    "              [-1, 2, 4],\n",
    "              [5, 3, 0]])\n",
    "B = np.array([[2, 7, 13],\n",
    "              [-1, 0, 5],\n",
    "              [5, 13, 21]])\n",
    "X = np.round(np.linalg.inv(A).dot(B), 3)\n",
    "print(X)"
   ]
  },
  {
   "cell_type": "code",
   "execution_count": null,
   "metadata": {},
   "outputs": [],
   "source": []
  }
 ],
 "metadata": {
  "kernelspec": {
   "display_name": "Python 3",
   "language": "python",
   "name": "python3"
  },
  "language_info": {
   "codemirror_mode": {
    "name": "ipython",
    "version": 3
   },
   "file_extension": ".py",
   "mimetype": "text/x-python",
   "name": "python",
   "nbconvert_exporter": "python",
   "pygments_lexer": "ipython3",
   "version": "3.7.3"
  }
 },
 "nbformat": 4,
 "nbformat_minor": 4
}
