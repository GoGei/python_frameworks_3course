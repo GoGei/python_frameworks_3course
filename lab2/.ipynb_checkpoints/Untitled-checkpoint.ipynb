{
 "cells": [
  {
   "cell_type": "code",
   "execution_count": 1,
   "metadata": {},
   "outputs": [],
   "source": [
    "import numpy as np\n",
    "\n",
    "\n",
    "def task_6():\n",
    "    try:\n",
    "        arr = np.array([int(i) for i in input('Enter array separated by spaces: ').strip().split(' ')])\n",
    "    except ValueError:\n",
    "        print('Incorrect array')\n",
    "    else:\n",
    "        new_arr = np.where(arr != 0, np.array([-1]), arr)\n",
    "        print('Array: ', new_arr)\n",
    "\n",
    "\n",
    "def task_7():\n",
    "    try:\n",
    "        arr = np.array([int(i) for i in input('Enter array separated by spaces: ').strip().split(' ')])\n",
    "    except ValueError:\n",
    "        print('Incorrect array')\n",
    "    else:\n",
    "        new_arr = np.where(arr == 0, np.array([-1]), arr)\n",
    "        print('Array: ', new_arr)\n",
    "\n",
    "\n",
    "def task_9():\n",
    "    try:\n",
    "        n = int(input('Enter positive number: '))\n",
    "        if n <= 0:\n",
    "            raise ValueError\n",
    "    except ValueError:\n",
    "        print('Incorrect number!')\n",
    "    else:\n",
    "        arr = np.arange(n, -1, -1)\n",
    "        print('Array: ', arr)\n",
    "\n",
    "\n",
    "def task_10():\n",
    "    try:\n",
    "        n, m = [int(i) for i in input('Enter 2 positive numbers separated by spaces: ').strip().split(' ')]\n",
    "        if n <= 0 or m <= 0:\n",
    "            raise ValueError\n",
    "    except ValueError:\n",
    "        print('Incorrect numbers')\n",
    "    else:\n",
    "        arr = np.random.rand(m, n)\n",
    "        print('Array:\\n', arr)\n",
    "        print('min: ', np.round(np.min(arr), 3))\n",
    "        print('max: ', np.round(np.max(arr), 3))\n",
    "        print('mean: ', np.round(np.mean(arr), 3))\n",
    "        print('deviation: ', np.round(np.std(arr), 3))\n",
    "\n",
    "\n",
    "def task_11():\n",
    "    try:\n",
    "        n = int(input('Enter positive number: '))\n",
    "        if n <= 0:\n",
    "            raise ValueError\n",
    "    except ValueError:\n",
    "        print('Incorrect number')\n",
    "    else:\n",
    "        x = np.ones((n, n))\n",
    "        x = np.pad(x, pad_width=1, mode='constant', constant_values=0)\n",
    "        print(x)\n",
    "\n",
    "\n",
    "def task_15():\n",
    "    # n is twice smaller then board size\n",
    "    n = 4\n",
    "    if n >= 0:\n",
    "        checkerboard = np.tile(np.array([[0, 1], [1, 0]]), (n, n))\n",
    "        print(checkerboard)\n",
    "    else:\n",
    "        print('n is incorrect', n)\n",
    "\n",
    "\n",
    "def task_17():\n",
    "    try:\n",
    "        n = int(input('Enter positive number: '))\n",
    "        if n <= 0:\n",
    "            raise ValueError\n",
    "    except ValueError:\n",
    "        print('Incorrect number')\n",
    "    else:\n",
    "        arr = np.arange(n + 1)\n",
    "        print('Array: ', arr)\n",
    "        new_arr = np.where(((arr > n / 2) & (arr < 3 * n / 4)), np.array([0]), arr)\n",
    "        print('Replace all values greater than n/2 and less than 3n/4 with zeros: n =', n)\n",
    "        print(new_arr)\n",
    "\n",
    "\n",
    "def task_18():\n",
    "    try:\n",
    "        n = int(input('Enter positive number: '))\n",
    "        if n <= 0:\n",
    "            raise ValueError\n",
    "    except ValueError:\n",
    "        print('Incorrect number')\n",
    "    else:\n",
    "        arr = np.arange(n + 1)\n",
    "        print('Array: ', arr)\n",
    "        new_arr = np.where(((arr < n / 2) | (arr > 3 * n / 4)), -arr, arr)\n",
    "        print(' Replace signs for all values less than n/2 and greater than 3n/4 to opposite ones: n =', n)\n",
    "        print(new_arr)\n",
    "\n",
    "\n",
    "def task_20():\n",
    "    try:\n",
    "        n = int(input('Enter positive number: '))\n",
    "        if n <= 0:\n",
    "            raise ValueError\n",
    "    except ValueError:\n",
    "        print('Incorrect number')\n",
    "    else:\n",
    "        arr = np.round(np.linspace(0.0, 1.0, num=n + 1, endpoint=False)[1:], 3)\n",
    "        print('Array: ', arr)\n",
    "\n",
    "\n",
    "def task_22():\n",
    "    try:\n",
    "        n, m = [int(i) for i in input('Enter 2 positive numbers separated by spaces: ').strip().split(' ')]\n",
    "        if n <= 0 or m <= 0:\n",
    "            raise ValueError\n",
    "    except ValueError:\n",
    "        print('Incorrect numbers')\n",
    "    else:\n",
    "        arr = np.random.randint(0, m, (n, n))\n",
    "        print('Initial vector\\n', arr)\n",
    "        new_arr = np.where(arr == np.max(arr), -arr, arr)\n",
    "        print('Modified vector\\n', new_arr)"
   ]
  },
  {
   "cell_type": "code",
   "execution_count": 2,
   "metadata": {},
   "outputs": [
    {
     "ename": "KeyboardInterrupt",
     "evalue": "Interrupted by user",
     "output_type": "error",
     "traceback": [
      "\u001b[1;31m---------------------------------------------------------------------------\u001b[0m",
      "\u001b[1;31mKeyboardInterrupt\u001b[0m                         Traceback (most recent call last)",
      "\u001b[1;32m<ipython-input-2-0a94c0b2c59a>\u001b[0m in \u001b[0;36m<module>\u001b[1;34m\u001b[0m\n\u001b[1;32m----> 1\u001b[1;33m \u001b[0mtask_6\u001b[0m\u001b[1;33m(\u001b[0m\u001b[1;33m)\u001b[0m\u001b[1;33m\u001b[0m\u001b[1;33m\u001b[0m\u001b[0m\n\u001b[0m",
      "\u001b[1;32m<ipython-input-1-5681a29379c2>\u001b[0m in \u001b[0;36mtask_6\u001b[1;34m()\u001b[0m\n\u001b[0;32m      4\u001b[0m \u001b[1;32mdef\u001b[0m \u001b[0mtask_6\u001b[0m\u001b[1;33m(\u001b[0m\u001b[1;33m)\u001b[0m\u001b[1;33m:\u001b[0m\u001b[1;33m\u001b[0m\u001b[1;33m\u001b[0m\u001b[0m\n\u001b[0;32m      5\u001b[0m     \u001b[1;32mtry\u001b[0m\u001b[1;33m:\u001b[0m\u001b[1;33m\u001b[0m\u001b[1;33m\u001b[0m\u001b[0m\n\u001b[1;32m----> 6\u001b[1;33m         \u001b[0marr\u001b[0m \u001b[1;33m=\u001b[0m \u001b[0mnp\u001b[0m\u001b[1;33m.\u001b[0m\u001b[0marray\u001b[0m\u001b[1;33m(\u001b[0m\u001b[1;33m[\u001b[0m\u001b[0mint\u001b[0m\u001b[1;33m(\u001b[0m\u001b[0mi\u001b[0m\u001b[1;33m)\u001b[0m \u001b[1;32mfor\u001b[0m \u001b[0mi\u001b[0m \u001b[1;32min\u001b[0m \u001b[0minput\u001b[0m\u001b[1;33m(\u001b[0m\u001b[1;34m'Enter array separated by spaces: '\u001b[0m\u001b[1;33m)\u001b[0m\u001b[1;33m.\u001b[0m\u001b[0mstrip\u001b[0m\u001b[1;33m(\u001b[0m\u001b[1;33m)\u001b[0m\u001b[1;33m.\u001b[0m\u001b[0msplit\u001b[0m\u001b[1;33m(\u001b[0m\u001b[1;34m' '\u001b[0m\u001b[1;33m)\u001b[0m\u001b[1;33m]\u001b[0m\u001b[1;33m)\u001b[0m\u001b[1;33m\u001b[0m\u001b[1;33m\u001b[0m\u001b[0m\n\u001b[0m\u001b[0;32m      7\u001b[0m     \u001b[1;32mexcept\u001b[0m \u001b[0mValueError\u001b[0m\u001b[1;33m:\u001b[0m\u001b[1;33m\u001b[0m\u001b[1;33m\u001b[0m\u001b[0m\n\u001b[0;32m      8\u001b[0m         \u001b[0mprint\u001b[0m\u001b[1;33m(\u001b[0m\u001b[1;34m'Incorrect array'\u001b[0m\u001b[1;33m)\u001b[0m\u001b[1;33m\u001b[0m\u001b[1;33m\u001b[0m\u001b[0m\n",
      "\u001b[1;32mc:\\users\\admin\\appdata\\local\\programs\\python\\python37-32\\lib\\site-packages\\ipykernel\\kernelbase.py\u001b[0m in \u001b[0;36mraw_input\u001b[1;34m(self, prompt)\u001b[0m\n\u001b[0;32m    861\u001b[0m             \u001b[0mself\u001b[0m\u001b[1;33m.\u001b[0m\u001b[0m_parent_ident\u001b[0m\u001b[1;33m,\u001b[0m\u001b[1;33m\u001b[0m\u001b[1;33m\u001b[0m\u001b[0m\n\u001b[0;32m    862\u001b[0m             \u001b[0mself\u001b[0m\u001b[1;33m.\u001b[0m\u001b[0m_parent_header\u001b[0m\u001b[1;33m,\u001b[0m\u001b[1;33m\u001b[0m\u001b[1;33m\u001b[0m\u001b[0m\n\u001b[1;32m--> 863\u001b[1;33m             \u001b[0mpassword\u001b[0m\u001b[1;33m=\u001b[0m\u001b[1;32mFalse\u001b[0m\u001b[1;33m,\u001b[0m\u001b[1;33m\u001b[0m\u001b[1;33m\u001b[0m\u001b[0m\n\u001b[0m\u001b[0;32m    864\u001b[0m         )\n\u001b[0;32m    865\u001b[0m \u001b[1;33m\u001b[0m\u001b[0m\n",
      "\u001b[1;32mc:\\users\\admin\\appdata\\local\\programs\\python\\python37-32\\lib\\site-packages\\ipykernel\\kernelbase.py\u001b[0m in \u001b[0;36m_input_request\u001b[1;34m(self, prompt, ident, parent, password)\u001b[0m\n\u001b[0;32m    902\u001b[0m             \u001b[1;32mexcept\u001b[0m \u001b[0mKeyboardInterrupt\u001b[0m\u001b[1;33m:\u001b[0m\u001b[1;33m\u001b[0m\u001b[1;33m\u001b[0m\u001b[0m\n\u001b[0;32m    903\u001b[0m                 \u001b[1;31m# re-raise KeyboardInterrupt, to truncate traceback\u001b[0m\u001b[1;33m\u001b[0m\u001b[1;33m\u001b[0m\u001b[1;33m\u001b[0m\u001b[0m\n\u001b[1;32m--> 904\u001b[1;33m                 \u001b[1;32mraise\u001b[0m \u001b[0mKeyboardInterrupt\u001b[0m\u001b[1;33m(\u001b[0m\u001b[1;34m\"Interrupted by user\"\u001b[0m\u001b[1;33m)\u001b[0m \u001b[1;32mfrom\u001b[0m \u001b[1;32mNone\u001b[0m\u001b[1;33m\u001b[0m\u001b[1;33m\u001b[0m\u001b[0m\n\u001b[0m\u001b[0;32m    905\u001b[0m             \u001b[1;32mexcept\u001b[0m \u001b[0mException\u001b[0m \u001b[1;32mas\u001b[0m \u001b[0me\u001b[0m\u001b[1;33m:\u001b[0m\u001b[1;33m\u001b[0m\u001b[1;33m\u001b[0m\u001b[0m\n\u001b[0;32m    906\u001b[0m                 \u001b[0mself\u001b[0m\u001b[1;33m.\u001b[0m\u001b[0mlog\u001b[0m\u001b[1;33m.\u001b[0m\u001b[0mwarning\u001b[0m\u001b[1;33m(\u001b[0m\u001b[1;34m\"Invalid Message:\"\u001b[0m\u001b[1;33m,\u001b[0m \u001b[0mexc_info\u001b[0m\u001b[1;33m=\u001b[0m\u001b[1;32mTrue\u001b[0m\u001b[1;33m)\u001b[0m\u001b[1;33m\u001b[0m\u001b[1;33m\u001b[0m\u001b[0m\n",
      "\u001b[1;31mKeyboardInterrupt\u001b[0m: Interrupted by user"
     ]
    }
   ],
   "source": [
    "task_6()"
   ]
  },
  {
   "cell_type": "code",
   "execution_count": null,
   "metadata": {},
   "outputs": [],
   "source": [
    "task_7()"
   ]
  },
  {
   "cell_type": "code",
   "execution_count": null,
   "metadata": {},
   "outputs": [],
   "source": [
    "task_9()"
   ]
  },
  {
   "cell_type": "code",
   "execution_count": 5,
   "metadata": {},
   "outputs": [
    {
     "name": "stdout",
     "output_type": "stream",
     "text": [
      "Enter 2 positive numbers separated by spaces: 4 5\n",
      "Array:\n",
      " [[0.40868318 0.51839105 0.1942799  0.82335968]\n",
      " [0.57637771 0.82734853 0.78151555 0.83314259]\n",
      " [0.44204369 0.68579459 0.37847711 0.50280178]\n",
      " [0.94440711 0.88215736 0.73859362 0.24107554]\n",
      " [0.26204251 0.74972581 0.32701708 0.30549765]]\n",
      "min:  0.194\n",
      "max:  0.944\n",
      "mean:  0.571\n",
      "deviation:  0.236\n"
     ]
    }
   ],
   "source": [
    "task_10()"
   ]
  },
  {
   "cell_type": "code",
   "execution_count": null,
   "metadata": {},
   "outputs": [],
   "source": [
    "task_11()"
   ]
  },
  {
   "cell_type": "code",
   "execution_count": null,
   "metadata": {},
   "outputs": [],
   "source": [
    "task_15()"
   ]
  },
  {
   "cell_type": "code",
   "execution_count": null,
   "metadata": {},
   "outputs": [],
   "source": [
    "task_17()"
   ]
  },
  {
   "cell_type": "code",
   "execution_count": null,
   "metadata": {},
   "outputs": [],
   "source": [
    "task_18()"
   ]
  },
  {
   "cell_type": "code",
   "execution_count": null,
   "metadata": {},
   "outputs": [],
   "source": [
    "task_20()"
   ]
  },
  {
   "cell_type": "code",
   "execution_count": null,
   "metadata": {},
   "outputs": [],
   "source": [
    "task_22()"
   ]
  }
 ],
 "metadata": {
  "kernelspec": {
   "display_name": "Python 3",
   "language": "python",
   "name": "python3"
  },
  "language_info": {
   "codemirror_mode": {
    "name": "ipython",
    "version": 3
   },
   "file_extension": ".py",
   "mimetype": "text/x-python",
   "name": "python",
   "nbconvert_exporter": "python",
   "pygments_lexer": "ipython3",
   "version": "3.7.3"
  }
 },
 "nbformat": 4,
 "nbformat_minor": 4
}
