{
 "cells": [
  {
   "cell_type": "code",
   "execution_count": 1,
   "metadata": {},
   "outputs": [],
   "source": [
    "import numpy as np\n",
    "\n",
    "\n",
    "def task_6():\n",
    "    try:\n",
    "        arr = np.array([int(i) for i in input('Enter array separated by spaces: ').strip().split(' ')])\n",
    "    except ValueError:\n",
    "        print('Incorrect array')\n",
    "    else:\n",
    "        new_arr = np.where(arr != 0, np.array([-1]), arr)\n",
    "        print('Array: ', new_arr)\n",
    "\n",
    "\n",
    "def task_7():\n",
    "    try:\n",
    "        arr = np.array([int(i) for i in input('Enter array separated by spaces: ').strip().split(' ')])\n",
    "    except ValueError:\n",
    "        print('Incorrect array')\n",
    "    else:\n",
    "        new_arr = np.where(arr == 0, np.array([-1]), arr)\n",
    "        print('Array: ', new_arr)\n",
    "\n",
    "\n",
    "def task_9():\n",
    "    try:\n",
    "        n = int(input('Enter positive number: '))\n",
    "        if n <= 0:\n",
    "            raise ValueError\n",
    "    except ValueError:\n",
    "        print('Incorrect number!')\n",
    "    else:\n",
    "        arr = np.arange(n, -1, -1)\n",
    "        print('Array: ', arr)\n",
    "\n",
    "\n",
    "def task_10():\n",
    "    try:\n",
    "        n, m = [int(i) for i in input('Enter 2 positive numbers separated by spaces: ').strip().split(' ')]\n",
    "        if n <= 0 or m <= 0:\n",
    "            raise ValueError\n",
    "    except ValueError:\n",
    "        print('Incorrect numbers')\n",
    "    else:\n",
    "        arr = np.random.rand(m, n)\n",
    "        print('Array:\\n', arr)\n",
    "        print('min: ', np.round(np.min(arr), 3))\n",
    "        print('max: ', np.round(np.max(arr), 3))\n",
    "        print('mean: ', np.round(np.mean(arr), 3))\n",
    "        print('deviation: ', np.round(np.std(arr), 3))\n",
    "\n",
    "\n",
    "def task_11():\n",
    "    try:\n",
    "        n = int(input('Enter positive number: '))\n",
    "        if n <= 0:\n",
    "            raise ValueError\n",
    "    except ValueError:\n",
    "        print('Incorrect number')\n",
    "    else:\n",
    "        x = np.ones((n, n))\n",
    "        x = np.pad(x, pad_width=1, mode='constant', constant_values=0)\n",
    "        print(x)\n",
    "\n",
    "\n",
    "def task_15():\n",
    "    # n is twice smaller then board size\n",
    "    n = 4\n",
    "    if n >= 0:\n",
    "        checkerboard = np.tile(np.array([[0, 1], [1, 0]]), (n, n))\n",
    "        print(checkerboard)\n",
    "    else:\n",
    "        print('n is incorrect', n)\n",
    "\n",
    "\n",
    "def task_17():\n",
    "    try:\n",
    "        n = int(input('Enter positive number: '))\n",
    "        if n <= 0:\n",
    "            raise ValueError\n",
    "    except ValueError:\n",
    "        print('Incorrect number')\n",
    "    else:\n",
    "        arr = np.arange(n + 1)\n",
    "        print('Array: ', arr)\n",
    "        new_arr = np.where(((arr >= n / 2) & (arr <= 3 * n / 4)), np.array([0]), arr)\n",
    "        print('Replace all values greater than n/2 and less than 3n/4 with zeros: n =', n)\n",
    "        print(new_arr)\n",
    "\n",
    "\n",
    "def task_18():\n",
    "    try:\n",
    "        n = int(input('Enter positive number: '))\n",
    "        if n <= 0:\n",
    "            raise ValueError\n",
    "    except ValueError:\n",
    "        print('Incorrect number')\n",
    "    else:\n",
    "        arr = np.arange(n + 1)\n",
    "        print('Array: ', arr)\n",
    "        new_arr = np.where(((arr < n / 2) | (arr > 3 * n / 4)), -arr, arr)\n",
    "        print(' Replace signs for all values less than n/2 and greater than 3n/4 to opposite ones: n =', n)\n",
    "        print(new_arr)\n",
    "\n",
    "\n",
    "def task_20():\n",
    "    try:\n",
    "        n = int(input('Enter positive number: '))\n",
    "        if n <= 0:\n",
    "            raise ValueError\n",
    "    except ValueError:\n",
    "        print('Incorrect number')\n",
    "    else:\n",
    "        arr = np.round(np.linspace(0.0, 1.0, num=n + 1, endpoint=False)[1:], 3)\n",
    "        print('Array: ', arr)\n",
    "\n",
    "\n",
    "def task_22():\n",
    "    try:\n",
    "        n, m = [int(i) for i in input('Enter 2 positive numbers separated by spaces: ').strip().split(' ')]\n",
    "        if n <= 0 or m <= 0:\n",
    "            raise ValueError\n",
    "    except ValueError:\n",
    "        print('Incorrect numbers')\n",
    "    else:\n",
    "        arr = np.random.randint(0, m, (n, n))\n",
    "        print('Initial vector\\n', arr)\n",
    "        new_arr = np.where(arr == np.max(arr), -arr, arr)\n",
    "        print('Modified vector\\n', new_arr)"
   ]
  },
  {
   "cell_type": "markdown",
   "metadata": {},
   "source": [
    "Excercise 6. An array is entered from the keyboard. Replace all non-zero elementswith -1.<br>\n",
    "Excercise 7. An array is entered from the keyboard. Replace all zeros with -1.<br>\n",
    "Excercise 9. Enter the number n. Create an array of values from n to 0.<br>\n",
    "Excercise 10. Enter the numbers n and m. Create an array of random values of size\n",
    "nхn and calculate the minimum, maximum value, mean and standard deviation, rounded to 3 decimal places.<br>\n",
    "Excercise 11. Create an array of 1 of size nхn and add to it a \"border\" formed from 0.<br>\n",
    "Excercise 15. Arrange 1 and 0 on the 8х8 field in a checkerboard pattern using the numpy tile().<br>\n",
    "Excercise 17. Fill the vector with values from 0 to n. Replace all values greater than n/2 and less than 3n/4 with zeros.<br>\n",
    "Excercise 18. Fill the vector with values from 0 to n. Replace signs for all values less than n/2 and greater than 3n/4 to opposite ones.<br>\n",
    "Excercise 20. Generate a vector of n elements that are evenly spaced on the interval (0,1) i.e. both ends of the interval are not included. Output values up to 3 decimal places.<br>\n",
    "Excercise 22. Enter the numbers n and m. Generate a matrix nхn of random integer elements from 0 to m. Change the signs of all maximum elements to the opposite.<br> "
   ]
  },
  {
   "cell_type": "code",
   "execution_count": 2,
   "metadata": {},
   "outputs": [
    {
     "name": "stdout",
     "output_type": "stream",
     "text": [
      "Enter array separated by spaces: 0 5 4 3 8 5 0 5 0 4 0 69 0\n",
      "Array:  [ 0 -1 -1 -1 -1 -1  0 -1  0 -1  0 -1  0]\n"
     ]
    }
   ],
   "source": [
    "task_6()"
   ]
  },
  {
   "cell_type": "code",
   "execution_count": 3,
   "metadata": {},
   "outputs": [
    {
     "name": "stdout",
     "output_type": "stream",
     "text": [
      "Enter array separated by spaces: 0 5 4 3 8 5 0 5 0 4 0 69 0\n",
      "Array:  [-1  5  4  3  8  5 -1  5 -1  4 -1 69 -1]\n"
     ]
    }
   ],
   "source": [
    "task_7()"
   ]
  },
  {
   "cell_type": "code",
   "execution_count": 4,
   "metadata": {},
   "outputs": [
    {
     "name": "stdout",
     "output_type": "stream",
     "text": [
      "Enter positive number: 15\n",
      "Array:  [15 14 13 12 11 10  9  8  7  6  5  4  3  2  1  0]\n"
     ]
    }
   ],
   "source": [
    "task_9()"
   ]
  },
  {
   "cell_type": "code",
   "execution_count": 5,
   "metadata": {},
   "outputs": [
    {
     "name": "stdout",
     "output_type": "stream",
     "text": [
      "Enter 2 positive numbers separated by spaces: 4 5\n",
      "Array:\n",
      " [[0.32801093 0.46267726 0.74588901 0.05553454]\n",
      " [0.68236559 0.17805098 0.51982709 0.94596453]\n",
      " [0.95538662 0.05427486 0.22276202 0.39078616]\n",
      " [0.33795202 0.80543414 0.67778407 0.61189078]\n",
      " [0.58399779 0.15034977 0.36387    0.10867954]]\n",
      "min:  0.054\n",
      "max:  0.955\n",
      "mean:  0.459\n",
      "deviation:  0.278\n"
     ]
    }
   ],
   "source": [
    "task_10()"
   ]
  },
  {
   "cell_type": "code",
   "execution_count": 6,
   "metadata": {},
   "outputs": [
    {
     "name": "stdout",
     "output_type": "stream",
     "text": [
      "Enter positive number: 4\n",
      "[[0. 0. 0. 0. 0. 0.]\n",
      " [0. 1. 1. 1. 1. 0.]\n",
      " [0. 1. 1. 1. 1. 0.]\n",
      " [0. 1. 1. 1. 1. 0.]\n",
      " [0. 1. 1. 1. 1. 0.]\n",
      " [0. 0. 0. 0. 0. 0.]]\n"
     ]
    }
   ],
   "source": [
    "task_11()"
   ]
  },
  {
   "cell_type": "code",
   "execution_count": 7,
   "metadata": {},
   "outputs": [
    {
     "name": "stdout",
     "output_type": "stream",
     "text": [
      "[[0 1 0 1 0 1 0 1]\n",
      " [1 0 1 0 1 0 1 0]\n",
      " [0 1 0 1 0 1 0 1]\n",
      " [1 0 1 0 1 0 1 0]\n",
      " [0 1 0 1 0 1 0 1]\n",
      " [1 0 1 0 1 0 1 0]\n",
      " [0 1 0 1 0 1 0 1]\n",
      " [1 0 1 0 1 0 1 0]]\n"
     ]
    }
   ],
   "source": [
    "task_15()"
   ]
  },
  {
   "cell_type": "code",
   "execution_count": 8,
   "metadata": {},
   "outputs": [
    {
     "name": "stdout",
     "output_type": "stream",
     "text": [
      "Enter positive number: 10\n",
      "Array:  [ 0  1  2  3  4  5  6  7  8  9 10]\n",
      "Replace all values greater than n/2 and less than 3n/4 with zeros: n = 10\n",
      "[ 0  1  2  3  4  0  0  0  8  9 10]\n"
     ]
    }
   ],
   "source": [
    "task_17()"
   ]
  },
  {
   "cell_type": "code",
   "execution_count": 9,
   "metadata": {},
   "outputs": [
    {
     "name": "stdout",
     "output_type": "stream",
     "text": [
      "Enter positive number: 10\n",
      "Array:  [ 0  1  2  3  4  5  6  7  8  9 10]\n",
      " Replace signs for all values less than n/2 and greater than 3n/4 to opposite ones: n = 10\n",
      "[  0  -1  -2  -3  -4   5   6   7  -8  -9 -10]\n"
     ]
    }
   ],
   "source": [
    "task_18()"
   ]
  },
  {
   "cell_type": "code",
   "execution_count": 10,
   "metadata": {},
   "outputs": [
    {
     "name": "stdout",
     "output_type": "stream",
     "text": [
      "Enter positive number: 10\n",
      "Array:  [0.091 0.182 0.273 0.364 0.455 0.545 0.636 0.727 0.818 0.909]\n"
     ]
    }
   ],
   "source": [
    "task_20()"
   ]
  },
  {
   "cell_type": "code",
   "execution_count": 12,
   "metadata": {},
   "outputs": [
    {
     "name": "stdout",
     "output_type": "stream",
     "text": [
      "Enter 2 positive numbers separated by spaces: 4 5\n",
      "Initial vector\n",
      " [[0 4 4 2]\n",
      " [0 2 1 4]\n",
      " [4 4 4 1]\n",
      " [2 4 1 4]]\n",
      "Modified vector\n",
      " [[ 0 -4 -4  2]\n",
      " [ 0  2  1 -4]\n",
      " [-4 -4 -4  1]\n",
      " [ 2 -4  1 -4]]\n"
     ]
    }
   ],
   "source": [
    "task_22()"
   ]
  },
  {
   "cell_type": "code",
   "execution_count": null,
   "metadata": {},
   "outputs": [],
   "source": []
  }
 ],
 "metadata": {
  "kernelspec": {
   "display_name": "Python 3",
   "language": "python",
   "name": "python3"
  },
  "language_info": {
   "codemirror_mode": {
    "name": "ipython",
    "version": 3
   },
   "file_extension": ".py",
   "mimetype": "text/x-python",
   "name": "python",
   "nbconvert_exporter": "python",
   "pygments_lexer": "ipython3",
   "version": "3.7.3"
  }
 },
 "nbformat": 4,
 "nbformat_minor": 4
}
