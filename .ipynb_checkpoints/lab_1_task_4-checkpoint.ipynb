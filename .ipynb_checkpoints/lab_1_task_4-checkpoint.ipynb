{
 "cells": [
  {
   "cell_type": "markdown",
   "metadata": {},
   "source": [
    "![flag](https://upload.wikimedia.org/wikipedia/commons/thumb/3/34/Flag_of_Djibouti.svg/250px-Flag_of_Djibouti.svg.png)\n",
    "\n",
    "# <font color = 'blue'><center>Djibouti</center></font>\n",
    "## Capital:\n",
    "Djibouti City\n",
    "***\n",
    "\n",
    "## National languages:\n",
    "***Somali***,Afar\n",
    "***\n",
    "\n",
    "## Area:\n",
    "23,200 km2\n",
    "***\n",
    "\n",
    "## Population:\n",
    "921,000\n",
    "***\n",
    "\n",
    "## Government:\n",
    "*Unitary dominant-party presidential republic*\n",
    "***\n",
    "\n",
    "## President:\n",
    "[Ismaïl Omar Guelleh](https://en.wikipedia.org/wiki/Isma%C3%AFl_Omar_Guelleh)\n",
    "***\n",
    "\n",
    "## Neighbour countries:\n",
    "* Ethiopia\n",
    "    * Addis Abeba\n",
    "* Eriteria\n",
    "    * Asmara\n",
    "* Somalia\n",
    "    * Mogadishu\n",
    "***\n",
    "\n",
    "# <font color='red'> Three biggest cities </center></font>\n",
    "|Name|Region|Population|\n",
    "|:---|---:|---:|\n",
    "*Djibouti*|Djibouti|475,000\n",
    "*Ali Sabieh*|Ali Sabieh|39,000\n",
    "*Dikhil*|Dikhil|25,000"
   ]
  },
  {
   "cell_type": "markdown",
   "metadata": {},
   "source": []
  },
  {
   "cell_type": "code",
   "execution_count": null,
   "metadata": {},
   "outputs": [],
   "source": []
  }
 ],
 "metadata": {
  "kernelspec": {
   "display_name": "Python 3",
   "language": "python",
   "name": "python3"
  },
  "language_info": {
   "codemirror_mode": {
    "name": "ipython",
    "version": 3
   },
   "file_extension": ".py",
   "mimetype": "text/x-python",
   "name": "python",
   "nbconvert_exporter": "python",
   "pygments_lexer": "ipython3",
   "version": "3.7.3"
  }
 },
 "nbformat": 4,
 "nbformat_minor": 4
}
