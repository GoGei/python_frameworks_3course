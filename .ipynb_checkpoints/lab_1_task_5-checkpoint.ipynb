{
 "cells": [
  {
   "cell_type": "code",
   "execution_count": 1,
   "metadata": {},
   "outputs": [],
   "source": [
    "def eratosthenes(n):\n",
    "    primes = list(range(2, n+1))\n",
    "    for i in primes:\n",
    "        j=2\n",
    "        while i*j<= primes[-1]:\n",
    "            if i*j in primes:\n",
    "                primes.remove(i*j)\n",
    "            j=j+1\n",
    "    return primes\n",
    "\n",
    "def odd_primes(N):\n",
    "    oddprimes = eratosthenes(N)\n",
    "    oddprimes.remove(2)\n",
    "    return(oddprimes)\n",
    "\n",
    "def goldbach(N):\n",
    "    x, y = 0, 0\n",
    "    result = 0\n",
    "    if N % 2 == 0:\n",
    "        prime = odd_primes(N)\n",
    "        while result != N:\n",
    "            for i in range(len(prime)):\n",
    "                if result == N: \n",
    "                    break \n",
    "                x = prime[i]\n",
    "                for j in range(len(prime)):\n",
    "                    y = prime[j]\n",
    "                    result = x + y\n",
    "                    if result == N: \n",
    "                        break \n",
    "    return x, y\n",
    "\n",
    "def test_task_1():\n",
    "    task_1(28)\n",
    "    task_1(32)\n",
    "    task_1(2)\n",
    "    task_1(91)\n",
    "    task_1('ewq')\n",
    "\n",
    "\n",
    "def task_1(n=None):\n",
    "    try:\n",
    "        if n is None:\n",
    "            n = int(input('Enter even integer greater than 2: '))\n",
    "        if n <= 2 or n%2 != 0:\n",
    "            raise ValueError\n",
    "    except (TypeError, ValueError):\n",
    "        print('This is incorrect number!')\n",
    "    else:\n",
    "        x, y = goldbach(n)\n",
    "        print('Number {n} can be expresses as {x}+{y}'.format(n=n, x=x, y=y))"
   ]
  },
  {
   "cell_type": "code",
   "execution_count": 2,
   "metadata": {},
   "outputs": [
    {
     "name": "stdout",
     "output_type": "stream",
     "text": [
      "Number 28 can be expresses as 5+23\n",
      "Number 32 can be expresses as 3+29\n",
      "This is incorrect number!\n",
      "This is incorrect number!\n",
      "This is incorrect number!\n"
     ]
    }
   ],
   "source": [
    "test_task_1()"
   ]
  },
  {
   "cell_type": "code",
   "execution_count": 5,
   "metadata": {},
   "outputs": [
    {
     "name": "stdout",
     "output_type": "stream",
     "text": [
      "Enter even integer greater than 2: 8\n",
      "Number 8 can be expresses as 3+5\n"
     ]
    }
   ],
   "source": [
    "task_1()"
   ]
  },
  {
   "cell_type": "code",
   "execution_count": null,
   "metadata": {},
   "outputs": [],
   "source": []
  }
 ],
 "metadata": {
  "kernelspec": {
   "display_name": "Python 3",
   "language": "python",
   "name": "python3"
  },
  "language_info": {
   "codemirror_mode": {
    "name": "ipython",
    "version": 3
   },
   "file_extension": ".py",
   "mimetype": "text/x-python",
   "name": "python",
   "nbconvert_exporter": "python",
   "pygments_lexer": "ipython3",
   "version": "3.7.3"
  }
 },
 "nbformat": 4,
 "nbformat_minor": 4
}
